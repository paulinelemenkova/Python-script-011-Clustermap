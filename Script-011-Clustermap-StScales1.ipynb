{
 "cells": [
  {
   "cell_type": "code",
   "execution_count": 1,
   "metadata": {},
   "outputs": [
    {
     "name": "stderr",
     "output_type": "stream",
     "text": [
      "/usr/local/lib/python3.7/site-packages/ipykernel_launcher.py:29: UserWarning: This figure includes Axes that are not compatible with tight_layout, so results might be incorrect.\n"
     ]
    },
    {
     "data": {
      "text/plain": [
       "<Figure size 1000x1000 with 4 Axes>"
      ]
     },
     "metadata": {},
     "output_type": "display_data"
    }
   ],
   "source": [
    "#!/usr/bin/env python\n",
    "# coding: utf-8\n",
    "import os\n",
    "import numpy as np\n",
    "import pandas as pd\n",
    "from matplotlib import pyplot as plt\n",
    "import seaborn as sb\n",
    "\n",
    "sb.set(style=\"white\")\n",
    "sb.set(color_codes=True)\n",
    "sb.set_context('paper')\n",
    "\n",
    "os.chdir('/Users/pauline/Documents/Python')\n",
    "df = pd.read_csv(\"Tab-Bathy.csv\")\n",
    "\n",
    "# define variables and plotting\n",
    "g = sb.clustermap(df, standard_scale=1)\n",
    "rotation = 45\n",
    "for i, ax in enumerate(g.fig.axes):   # getting all axes of the fig object\n",
    "     ax.set_xticklabels(ax.get_xticklabels(),\n",
    "                        rotation = rotation\n",
    "                        )\n",
    "g.fig.suptitle('Mariana Trench: Clustermap of the bathymetric observations. \\nDataset: 25 cross-section profiles, 518 observations in each. \\nMethod: standard scales = 1') \n",
    "plt.subplots_adjust(bottom=0.20,top=0.90,\n",
    "                    right=0.90, left=0.10\n",
    "                    )\n",
    "\n",
    "# visualizing and saving\n",
    "plt.savefig('plot_ClustSc.png', dpi=300)\n",
    "plt.show()\n"
   ]
  },
  {
   "cell_type": "code",
   "execution_count": null,
   "metadata": {},
   "outputs": [],
   "source": []
  }
 ],
 "metadata": {
  "kernelspec": {
   "display_name": "Python 3",
   "language": "python",
   "name": "python3"
  },
  "language_info": {
   "codemirror_mode": {
    "name": "ipython",
    "version": 3
   },
   "file_extension": ".py",
   "mimetype": "text/x-python",
   "name": "python",
   "nbconvert_exporter": "python",
   "pygments_lexer": "ipython3",
   "version": "3.7.3"
  }
 },
 "nbformat": 4,
 "nbformat_minor": 2
}
